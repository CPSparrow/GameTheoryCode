{
 "cells": [
  {
   "metadata": {},
   "cell_type": "code",
   "source": [
    "from pgg import PggModel\n",
    "from matplotlib import pyplot as plt\n",
    "import numpy as np\n",
    "\n",
    "model = PggModel(rho=0.9, l=0.5, r=4.2, size=100)\n",
    "fc_list = list()\n",
    "for i in range(10):\n",
    "    fc_list.append(model.forward())\n",
    "X = model.get_x()\n",
    "model.get_s(model.get_phi(X, model.r))"
   ],
   "id": "20642de398475be6",
   "outputs": [],
   "execution_count": null
  },
  {
   "metadata": {
    "ExecuteTime": {
     "end_time": "2025-04-12T07:55:24.803167Z",
     "start_time": "2025-04-12T07:55:24.535512Z"
    }
   },
   "cell_type": "code",
   "source": [
    "import test_mul, pgg\n",
    "\n",
    "raw_model = pgg.PggModel(0.9, 0.5, 4.2, 6)\n",
    "mul_model = test_mul.PggModel(0.9, 0.5, 4.2, 6)\n",
    "X = mul_model.get_x()\n",
    "for _ in range(0):\n",
    "    mul_model.forward()\n",
    "print(X)"
   ],
   "id": "b7da611c766d486d",
   "outputs": [
    {
     "name": "stdout",
     "output_type": "stream",
     "text": [
      "[[1 0 1 1 1 1]\n",
      " [0 1 1 1 1 0]\n",
      " [1 0 0 0 1 1]\n",
      " [0 0 1 1 1 1]\n",
      " [0 1 0 1 0 0]\n",
      " [0 0 1 1 1 1]]\n"
     ]
    }
   ],
   "execution_count": 1
  },
  {
   "metadata": {
    "ExecuteTime": {
     "end_time": "2025-04-12T07:55:34.133559Z",
     "start_time": "2025-04-12T07:55:34.129870Z"
    }
   },
   "cell_type": "code",
   "source": [
    "# print(raw_model.IsConverse)\n",
    "raw_model.get_phi(X, raw_model.r)"
   ],
   "id": "683ee27c9777695f",
   "outputs": [
    {
     "data": {
      "text/plain": [
       "array([[ 7.36666667,  8.63      , 13.11      , 13.91      , 13.56      ,\n",
       "         9.48333333],\n",
       "       [ 6.53      , 12.62      , 12.43      , 16.        , 16.63      ,\n",
       "        11.71      ],\n",
       "       [ 6.68      ,  7.37      , 10.52      , 13.68      , 14.95      ,\n",
       "        12.06      ],\n",
       "       [ 4.58      ,  6.53      , 11.36      , 12.64      , 14.95      ,\n",
       "        11.01      ],\n",
       "       [ 2.69      ,  8.83      ,  9.7       , 15.36      , 13.05      ,\n",
       "        10.07      ],\n",
       "       [ 3.15      ,  4.54      , 11.26      , 10.97      , 11.92      ,\n",
       "         7.38333333]])"
      ]
     },
     "execution_count": 3,
     "metadata": {},
     "output_type": "execute_result"
    }
   ],
   "execution_count": 3
  },
  {
   "metadata": {
    "ExecuteTime": {
     "end_time": "2025-04-12T07:55:43.538658Z",
     "start_time": "2025-04-12T07:55:43.535760Z"
    }
   },
   "cell_type": "code",
   "source": [
    "# print(mul_model.IsConverse)\n",
    "mul_model.get_phi(X, mul_model.r)"
   ],
   "id": "521329b15055b2e4",
   "outputs": [
    {
     "data": {
      "text/plain": [
       "array([[ 7.36666667,  8.63      , 13.11      , 13.91      , 13.56      ,\n",
       "         9.48333333],\n",
       "       [ 6.53      , 12.62      , 12.43      , 16.        , 16.63      ,\n",
       "        11.71      ],\n",
       "       [ 6.68      ,  7.37      , 10.52      , 13.68      , 14.95      ,\n",
       "        12.06      ],\n",
       "       [ 4.58      ,  6.53      , 11.36      , 12.64      , 14.95      ,\n",
       "        11.01      ],\n",
       "       [ 2.69      ,  8.83      ,  9.7       , 15.36      , 13.05      ,\n",
       "        10.07      ],\n",
       "       [ 3.15      ,  4.54      , 11.26      , 10.97      , 11.92      ,\n",
       "         7.38333333]])"
      ]
     },
     "execution_count": 4,
     "metadata": {},
     "output_type": "execute_result"
    }
   ],
   "execution_count": 4
  },
  {
   "metadata": {
    "ExecuteTime": {
     "end_time": "2025-04-12T07:52:26.512736Z",
     "start_time": "2025-04-12T07:52:26.510294Z"
    }
   },
   "cell_type": "code",
   "source": [
    "import numpy as np\n",
    "import random\n",
    "from matplotlib import pyplot as plt\n",
    "from tqdm import tqdm\n",
    "from dataclasses import dataclass\n",
    "from matplotlib.colors import ListedColormap\n",
    "from time import time\n",
    "from typing import Union\n",
    "\n",
    "time_total, time_x, time_u, time_f = 0, 0, 0, 0\n",
    "time_phi, time_s, time_op = 0, 0, 0\n",
    "\n",
    "\n",
    "class PggModel:\n",
    "    def __init__(self, rho: float, l: float, r: float, size: int):\n",
    "        self.rho = rho\n",
    "        self.l = l\n",
    "        self.r = r\n",
    "        self.size = size\n",
    "        self.PolicyTable, self.IsConverse = self.DataInit(size, rho)\n",
    "\n",
    "    @staticmethod\n",
    "    def DataInit(size: int, rho: float) -> tuple[np.ndarray, np.ndarray]:\n",
    "        policy = np.full((size, size), 0.5)\n",
    "        n_total = size * size\n",
    "        n_ones = int(n_total * (1 - rho))\n",
    "        converse = np.zeros(n_total, dtype=int)\n",
    "        converse[:n_ones] = 1\n",
    "        np.random.shuffle(converse)\n",
    "        return policy, converse.reshape(size, size)\n",
    "\n",
    "    @staticmethod\n",
    "    def get_n(X: np.ndarray) -> np.ndarray:\n",
    "        # 计算上下左右邻居的存在性掩码\n",
    "        exist_up = np.zeros_like(X, dtype=int)\n",
    "        exist_up[1:, :] = 1\n",
    "        exist_down = np.zeros_like(X, dtype=int)\n",
    "        exist_down[:-1, :] = 1\n",
    "        exist_left = np.zeros_like(X, dtype=int)\n",
    "        exist_left[:, 1:] = 1\n",
    "        exist_right = np.zeros_like(X, dtype=int)\n",
    "        exist_right[:, :-1] = 1\n",
    "\n",
    "        # 计算邻居的X值之和\n",
    "        up = np.roll(X, 1, axis=0)\n",
    "        up[0, :] = 0\n",
    "        down = np.roll(X, -1, axis=0)\n",
    "        down[-1, :] = 0\n",
    "        left = np.roll(X, 1, axis=1)\n",
    "        left[:, 0] = 0\n",
    "        right = np.roll(X, -1, axis=1)\n",
    "        right[:, -1] = 0\n",
    "        sum_neighbors = up + down + left + right\n",
    "\n",
    "        n_cooperators = X + sum_neighbors\n",
    "        n_individuals = 1 + exist_up + exist_down + exist_left + exist_right\n",
    "        return n_cooperators / n_individuals\n",
    "\n",
    "    @staticmethod\n",
    "    def get_phi(X: np.ndarray, r: float) -> np.ndarray:\n",
    "        n = PggModel.get_n(X)\n",
    "        # 计算邻居的n值之和\n",
    "        up_n = np.roll(n, 1, axis=0)\n",
    "        up_n[0, :] = 0\n",
    "        down_n = np.roll(n, -1, axis=0)\n",
    "        down_n[-1, :] = 0\n",
    "        left_n = np.roll(n, 1, axis=1)\n",
    "        left_n[:, 0] = 0\n",
    "        right_n = np.roll(n, -1, axis=1)\n",
    "        right_n[:, -1] = 0\n",
    "        sum_neighbors_n = up_n + down_n + left_n + right_n\n",
    "        return n * (r - 1 * X) + sum_neighbors_n * r\n",
    "\n",
    "    @staticmethod\n",
    "    def get_s(phi: np.ndarray) -> np.ndarray:\n",
    "        if True:\n",
    "            return np.tanh(2 * (phi - 2))\n",
    "        else:\n",
    "            phi -= phi.mean()\n",
    "            a, b = phi.min(), phi.max()\n",
    "            return np.tanh(2 * phi / max(abs(b), abs(a)))\n",
    "\n",
    "    def get_x(self) -> np.ndarray:\n",
    "        return (np.random.rand(*self.PolicyTable.shape) < self.PolicyTable).astype(int)\n",
    "\n",
    "    def get_u(self, X: np.ndarray) -> np.ndarray:\n",
    "        global time_phi, time_s, time_op\n",
    "        a = time()\n",
    "        phi = self.get_phi(X, self.r)\n",
    "        b = time()\n",
    "        s_tabel = self.get_s(phi)\n",
    "        c = time()\n",
    "\n",
    "        p = self.PolicyTable\n",
    "        x_mask = X.astype(bool)\n",
    "        s_ge_0 = s_tabel >= 0\n",
    "\n",
    "        # 向量化计算u\n",
    "        u_1 = np.where(s_ge_0, p + (1 - p) * s_tabel, p + p * s_tabel)\n",
    "        u_0 = np.where(s_ge_0, p - p * s_tabel, p - (1 - p) * s_tabel)\n",
    "        u = np.where(x_mask, u_1, u_0)\n",
    "        # u = np.clip(u, 0, 1)\n",
    "\n",
    "        d = time()\n",
    "        time_phi += b - a\n",
    "        time_s += c - b\n",
    "        time_op += d - c\n",
    "        return u\n",
    "\n",
    "    def get_f(self, X: np.ndarray) -> np.ndarray:\n",
    "        q = 0.01\n",
    "        n_candidates = X.size\n",
    "        converse_flag_total = 2 * X.sum() - n_candidates\n",
    "        converse_flag = 1 if converse_flag_total > 0 else -1 if converse_flag_total < 0 else 0\n",
    "\n",
    "        # 计算每个位置的邻居多数意见\n",
    "        up = np.roll(X, 1, axis=0)\n",
    "        up[0, :] = 0\n",
    "        down = np.roll(X, -1, axis=0)\n",
    "        down[-1, :] = 0\n",
    "        left = np.roll(X, 1, axis=1)\n",
    "        left[:, 0] = 0\n",
    "        right = np.roll(X, -1, axis=1)\n",
    "        right[:, -1] = 0\n",
    "\n",
    "        sum_neighbors = up + down + left + right\n",
    "        exist_up = (up != 0).astype(int)\n",
    "        exist_down = (down != 0).astype(int)\n",
    "        exist_left = (left != 0).astype(int)\n",
    "        exist_right = (right != 0).astype(int)\n",
    "        n_neighbors = exist_up + exist_down + exist_left + exist_right\n",
    "        candidate_flag = 2 * sum_neighbors - n_neighbors\n",
    "        candidate_flag = np.sign(candidate_flag)\n",
    "        candidate_flag[candidate_flag == 0] = 0\n",
    "        # print(self.IsConverse)\n",
    "        # print(converse_flag)\n",
    "        # assert False\n",
    "\n",
    "        x = 2 * X - 1  # 转换为1或-1\n",
    "        mask_converse = (self.IsConverse == 1)\n",
    "        flag = np.where(mask_converse, converse_flag, candidate_flag)\n",
    "        f = 0.5 * (1 + (1 - 2 * q) * x * flag)\n",
    "        f = np.where(X.astype(bool), 1 - f, f)\n",
    "        return f\n",
    "\n",
    "    def forward(self):\n",
    "        a = time()\n",
    "        X = self.get_x()\n",
    "        b = time()\n",
    "        u = self.get_u(X)\n",
    "        c = time()\n",
    "        f = self.get_f(X)\n",
    "        d = time()\n",
    "\n",
    "        global time_x, time_u, time_f\n",
    "        time_x += b - a\n",
    "        time_u += c - b\n",
    "        time_f += d - c\n",
    "\n",
    "        self.PolicyTable = (1 - self.l) * u + self.l * f\n",
    "        return X.mean()\n",
    "\n",
    "    def train(self, n_steps: Union[int, float], n_logs: int) -> np.ndarray:\n",
    "        if not isinstance(n_steps, int):\n",
    "            n_steps = int(n_steps)\n",
    "        log_steps = max(n_steps // n_logs, 1)\n",
    "        fc_list = []\n",
    "        for step in tqdm(range(n_steps), ncols=80):\n",
    "            fc = self.forward()\n",
    "            if step % log_steps == 0:\n",
    "                fc_list.append(fc)\n",
    "        return np.array(fc_list)\n",
    "\n",
    "\n",
    "def main():\n",
    "    n_steps, n_logs = 1e4, 50\n",
    "    model = PggModel(rho=0.9, l=0.5, r=4.5, size=6)\n",
    "    fc_logs = model.train(n_steps, n_logs)\n",
    "\n",
    "    plt.figure(dpi=200)\n",
    "    x = np.arange(len(fc_logs)) * (n_steps // n_logs)\n",
    "    plt.scatter(x, fc_logs, s=7)\n",
    "    plt.show()\n",
    "\n",
    "\n",
    "if __name__ == '__main__':\n",
    "    t1 = time()\n",
    "    main()\n",
    "    total = time() - t1\n",
    "    print(\"优化后的时间分析:\")\n",
    "    print(f\"总时间: {total:.2f}s\")\n",
    "    print(f\"get_x时间: {time_x:.2f}s ({time_x / total * 100:.1f}%)\")\n",
    "    print(f\"get_u时间: {time_u:.2f}s ({time_u / total * 100:.1f}%)\")\n",
    "    print(f\"get_f时间: {time_f:.2f}s ({time_f / total * 100:.1f}%)\")\n",
    "    print(\"get_u内部时间分析:\")\n",
    "    print(f\"phi计算: {time_phi:.2f}s ({time_phi / time_u * 100:.1f}%)\")\n",
    "    print(f\"s计算: {time_s:.2f}s ({time_s / time_u * 100:.1f}%)\")\n",
    "    print(f\"其他操作: {time_op:.2f}s ({time_op / time_u * 100:.1f}%)\")"
   ],
   "id": "2e4cbd32c3027a13",
   "outputs": [
    {
     "data": {
      "text/plain": [
       "36"
      ]
     },
     "execution_count": 6,
     "metadata": {},
     "output_type": "execute_result"
    }
   ],
   "execution_count": 6
  }
 ],
 "metadata": {
  "kernelspec": {
   "display_name": "Python 3",
   "language": "python",
   "name": "python3"
  },
  "language_info": {
   "codemirror_mode": {
    "name": "ipython",
    "version": 2
   },
   "file_extension": ".py",
   "mimetype": "text/x-python",
   "name": "python",
   "nbconvert_exporter": "python",
   "pygments_lexer": "ipython2",
   "version": "2.7.6"
  }
 },
 "nbformat": 4,
 "nbformat_minor": 5
}
